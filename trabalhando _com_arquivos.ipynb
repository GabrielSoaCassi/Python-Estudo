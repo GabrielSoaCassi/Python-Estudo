{
 "cells": [
  {
   "cell_type": "markdown",
   "metadata": {},
   "source": [
    "# Introdução\n",
    "A ideia inicial é poder mesclar arquivos excel gerados de forma separada, para criar um único arquivo excel separado por 'Seets'"
   ]
  },
  {
   "cell_type": "code",
   "execution_count": null,
   "metadata": {},
   "outputs": [],
   "source": [
    "# %pip install pandas\n",
    "# %pip install openpyxl\n",
    "# %pip install xlrd"
   ]
  },
  {
   "cell_type": "markdown",
   "metadata": {},
   "source": [
    "primeiro faremos os imports necessários para poder da andamento no estudo"
   ]
  },
  {
   "cell_type": "code",
   "execution_count": null,
   "metadata": {},
   "outputs": [],
   "source": [
    "import pandas as pd\n",
    "import os"
   ]
  },
  {
   "cell_type": "markdown",
   "metadata": {},
   "source": [
    "após fazer a importação das bibliotecas iniciaremos a nossa lógica, que consiste em pegar os arquivos que queremos unificar, para exemplo peguei algumas arquivos aleatórios , lembrando que o estudo é para arquivos que possuem no momento apenas uma sheet , para poder funcionar com mais de uma sheet será abordado posteriormente. utilizaremos o ExcelWrite da biblioteca pandas , na documentação possui um exemplo de como utilizar [ExcelWritter](https://pandas.pydata.org/docs/reference/api/pandas.ExcelWriter.html) Notaremos que um grande problema é o design feito , a biblioteca não consegue pegar totalmente o desing, então ele será perdido note também que a maioria dos erros ocorre pelo fato do arquivo que queremos criar ja existir \n",
    "então um detalhe importante é sempre garantir que ele n exista ou salvar com um nome diferente."
   ]
  },
  {
   "cell_type": "code",
   "execution_count": null,
   "metadata": {},
   "outputs": [],
   "source": [
    "caminho_dos_arquivos = './arquivos_excel/'\n",
    "arquivos = os.scandir(path=caminho_dos_arquivos)\n",
    "with pd.ExcelWriter('./arquivos_excel/arquivo.xlsx') as writer:\n",
    "    for arquivo in arquivos:\n",
    "        arquivo_excel = pd.ExcelFile(f\"{caminho_dos_arquivos}{arquivo.name}\")\n",
    "        tabela = pd.read_excel(arquivo_excel).to_excel(writer,arquivo_excel.sheet_names[0],index=False)"
   ]
  },
  {
   "cell_type": "markdown",
   "metadata": {},
   "source": [
    "Agora iremos trabalhar com planilhas onde as duas possui duas sheets ou mais. e iremos fazer a logica para pegar as sheets de cada arquivos e unificar em um arquivo excel"
   ]
  },
  {
   "cell_type": "code",
   "execution_count": null,
   "metadata": {},
   "outputs": [],
   "source": [
    "caminho_dos_arquivos = './arquivos_excel_puro/'\n",
    "arquivos = os.scandir(path=caminho_dos_arquivos)\n",
    "excel_sheet_names = []\n",
    "contador = 0\n",
    "with pd.ExcelWriter(f'{caminho_dos_arquivos}excel_unificado.xlsx') as writer:\n",
    "    for arquivo in arquivos:\n",
    "        arquivo_excel = pd.ExcelFile(f'{caminho_dos_arquivos}{arquivo.name}')\n",
    "        for sheet in arquivo_excel.sheet_names:\n",
    "            tabela = pd.DataFrame(arquivo_excel.book[sheet].values).to_excel(writer,sheet_name=sheet,index=False)\n",
    " "
   ]
  }
 ],
 "metadata": {
  "kernelspec": {
   "display_name": "Python 3",
   "language": "python",
   "name": "python3"
  },
  "language_info": {
   "codemirror_mode": {
    "name": "ipython",
    "version": 3
   },
   "file_extension": ".py",
   "mimetype": "text/x-python",
   "name": "python",
   "nbconvert_exporter": "python",
   "pygments_lexer": "ipython3",
   "version": "3.11.1"
  },
  "orig_nbformat": 4
 },
 "nbformat": 4,
 "nbformat_minor": 2
}
